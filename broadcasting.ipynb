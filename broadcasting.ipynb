{
  "nbformat": 4,
  "nbformat_minor": 0,
  "metadata": {
    "colab": {
      "name": "Shubham Jha - numpy-assignment-6.ipynb",
      "provenance": []
    },
    "kernelspec": {
      "name": "python3",
      "display_name": "Python 3"
    }
  },
  "cells": [
    {
      "cell_type": "code",
      "metadata": {
        "id": "6PAefYSKHONH",
        "colab_type": "code",
        "colab": {}
      },
      "source": [
        "# You have write a function which takes 2 numpy array as input and returns \"Hoga\" or \"Nahi Hoga\" \n",
        "# depending on if broadcasting is possible on those two arrays"
      ],
      "execution_count": 0,
      "outputs": []
    },
    {
      "cell_type": "code",
      "metadata": {
        "id": "LtPSvg-4HjEv",
        "colab_type": "code",
        "colab": {}
      },
      "source": [
        "# Write your logic here\n",
        "def hoga_ki_nahi(arr1,arr2):      #function definition\n",
        "    shp1=arr1.shape               #getting shape\n",
        "    shp2=arr2.shape\n",
        "    for a,b in zip(shp1[::-1],shp2[::-1]):    #this is for reversing tuple shp1 and shp2 to get column\n",
        "        if a==1 or b==1 or a==b:               #this is exact condition for broadcastibility of array\n",
        "            pass\n",
        "        else:\n",
        "            return \"nahi hoga\"\n",
        "        return \"hoga\""
      ],
      "execution_count": 0,
      "outputs": []
    },
    {
      "cell_type": "code",
      "metadata": {
        "id": "BGp93pIEHsOG",
        "colab_type": "code",
        "colab": {}
      },
      "source": [
        "import numpy as np\n",
        "x=np.array([[1,2,3,4],[3,7,5,9]])\n",
        "y=np.array([2])\n",
        "print(hoga_ki_nahi(x,y))"
      ],
      "execution_count": 0,
      "outputs": []
    },
    {
      "cell_type": "code",
      "metadata": {
        "id": "jz_2U5LRH2xy",
        "colab_type": "code",
        "colab": {}
      },
      "source": [
        ""
      ],
      "execution_count": 0,
      "outputs": []
    }
  ]
}