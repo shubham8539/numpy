{
  "nbformat": 4,
  "nbformat_minor": 0,
  "metadata": {
    "colab": {
      "name": "Shubham Jha - Linspace.ipynb",
      "provenance": []
    },
    "kernelspec": {
      "name": "python3",
      "display_name": "Python 3"
    }
  },
  "cells": [
    {
      "cell_type": "code",
      "metadata": {
        "id": "OAQSqjcQeRDl",
        "colab_type": "code",
        "colab": {}
      },
      "source": [
        "def func(a,b,nr):\n",
        "    st=(b-a)/nr\n",
        "    lst=[a]\n",
        "    for i in range(0,nr-1):\n",
        "        lst.append(lst[i]+st)\n",
        "    return(lst)"
      ],
      "execution_count": 0,
      "outputs": []
    },
    {
      "cell_type": "code",
      "metadata": {
        "id": "bOsNwXOYe99j",
        "colab_type": "code",
        "outputId": "4b4d6cc0-be66-47d6-fcc0-1d910cd267a3",
        "colab": {
          "base_uri": "https://localhost:8080/",
          "height": 85
        }
      },
      "source": [
        "q=int(input(\"enter  lower value\"))\n",
        "r=int(input(\"enter upper value\"))\n",
        "s=int(input(\"enter no.of elements between them\"))\n",
        "\n",
        "print(func(q,r,s))"
      ],
      "execution_count": 0,
      "outputs": [
        {
          "output_type": "stream",
          "text": [
            "enter  lower value1\n",
            "enter upper value10\n",
            "enter no.of elements between them5\n",
            "[1, 2.8, 4.6, 6.3999999999999995, 8.2]\n"
          ],
          "name": "stdout"
        }
      ]
    },
    {
      "cell_type": "code",
      "metadata": {
        "id": "vlk_JMJXzIzN",
        "colab_type": "code",
        "colab": {}
      },
      "source": [
        ""
      ],
      "execution_count": 0,
      "outputs": []
    }
  ]
}