{
  "nbformat": 4,
  "nbformat_minor": 0,
  "metadata": {
    "colab": {
      "name": "Shubham Jha - numpy-assignment-4.ipynb",
      "provenance": []
    },
    "kernelspec": {
      "name": "python3",
      "display_name": "Python 3"
    }
  },
  "cells": [
    {
      "cell_type": "code",
      "metadata": {
        "id": "LYAs5f4MUyqX",
        "colab_type": "code",
        "colab": {}
      },
      "source": [
        "import numpy as np"
      ],
      "execution_count": 0,
      "outputs": []
    },
    {
      "cell_type": "code",
      "metadata": {
        "id": "kith96zaU3v4",
        "colab_type": "code",
        "outputId": "b6e047b3-9c95-4a37-98fd-143b3c36ec3d",
        "colab": {
          "base_uri": "https://localhost:8080/",
          "height": 87
        }
      },
      "source": [
        "arr1=np.arange(20).reshape(4,5)\n",
        "arr1"
      ],
      "execution_count": 0,
      "outputs": [
        {
          "output_type": "execute_result",
          "data": {
            "text/plain": [
              "array([[ 0,  1,  2,  3,  4],\n",
              "       [ 5,  6,  7,  8,  9],\n",
              "       [10, 11, 12, 13, 14],\n",
              "       [15, 16, 17, 18, 19]])"
            ]
          },
          "metadata": {
            "tags": []
          },
          "execution_count": 2
        }
      ]
    },
    {
      "cell_type": "code",
      "metadata": {
        "id": "hSQuEs7WVpXk",
        "colab_type": "code",
        "outputId": "daa35f50-0557-4dc8-fa5f-6e60c95ef799",
        "colab": {
          "base_uri": "https://localhost:8080/",
          "height": 90
        }
      },
      "source": [
        "# Q1 Write a numpy code to swap col1([0,5,10,15]) with col4([3,8,13,18])\n",
        "arr1=np.arange(20).reshape(4,5)\n",
        "def swap_cols(arr, frm, to):\n",
        "    arr[:,[frm, to]] = arr[:,[to, frm]]\n",
        "\n",
        "swap_cols(arr1, 0, 3)\n",
        "print(arr1)\n",
        "# Hint----> Fancy Indexing"
      ],
      "execution_count": 0,
      "outputs": [
        {
          "output_type": "stream",
          "text": [
            "[[ 3  1  2  0  4]\n",
            " [ 8  6  7  5  9]\n",
            " [13 11 12 10 14]\n",
            " [18 16 17 15 19]]\n"
          ],
          "name": "stdout"
        }
      ]
    },
    {
      "cell_type": "code",
      "metadata": {
        "id": "qzrMoxJSWOEm",
        "colab_type": "code",
        "outputId": "33a502e1-d7c8-4264-e48a-c08468f3d6e0",
        "colab": {
          "base_uri": "https://localhost:8080/",
          "height": 90
        }
      },
      "source": [
        "# Q2 Write a numpy code to reverse the rows of arr1\n",
        "# The output should be [15, 16, 17, 18, 19] as first row and [ 0,  1,  2,  3,  4] as last row\n",
        "arr1=np.arange(20).reshape(4,5)\n",
        "def swap_rows(arr, frm, to):\n",
        "    arr[[frm, to],:] = arr[[to, frm],:]\n",
        "\n",
        "\n",
        "swap_rows(arr1, 0, 3)\n",
        "print(arr1)"
      ],
      "execution_count": 0,
      "outputs": [
        {
          "output_type": "stream",
          "text": [
            "[[15 16 17 18 19]\n",
            " [ 5  6  7  8  9]\n",
            " [10 11 12 13 14]\n",
            " [ 0  1  2  3  4]]\n"
          ],
          "name": "stdout"
        }
      ]
    },
    {
      "cell_type": "code",
      "metadata": {
        "id": "qU9DW6vQWivF",
        "colab_type": "code",
        "outputId": "7996a622-a255-4a05-f84e-0e605f1dc1df",
        "colab": {
          "base_uri": "https://localhost:8080/",
          "height": 72
        }
      },
      "source": [
        "arr2=np.array([[1,2,np.nan],[4,5,6],[np.nan,np.nan,9]])\n",
        "arr2"
      ],
      "execution_count": 0,
      "outputs": [
        {
          "output_type": "execute_result",
          "data": {
            "text/plain": [
              "array([[ 1.,  2., nan],\n",
              "       [ 4.,  5.,  6.],\n",
              "       [nan, nan,  9.]])"
            ]
          },
          "metadata": {
            "tags": []
          },
          "execution_count": 11
        }
      ]
    },
    {
      "cell_type": "code",
      "metadata": {
        "id": "V9pLugRlXZCV",
        "colab_type": "code",
        "outputId": "032ba662-c5f2-45be-e76a-ed082fa2eb28",
        "colab": {
          "base_uri": "https://localhost:8080/",
          "height": 90
        }
      },
      "source": [
        "# Q3 Write a code to replace all the nan(missing values) of arr2 with the mean of arr2\n",
        "col_mean = np.nanmean(arr2, axis = 0)\n",
        "print (\"columns mean\", str(col_mean))            #with column mean\n",
        "inds = np.where(np.isnan(arr2))\n",
        "arr2[inds] = np.take(col_mean, inds[1]) \n",
        "print (\"final array\", arr2)"
      ],
      "execution_count": 0,
      "outputs": [
        {
          "output_type": "stream",
          "text": [
            "columns mean [2.5 3.5 7.5]\n",
            "final array [[1.  2.  7.5]\n",
            " [4.  5.  6. ]\n",
            " [2.5 3.5 9. ]]\n"
          ],
          "name": "stdout"
        }
      ]
    },
    {
      "cell_type": "code",
      "metadata": {
        "id": "F3tUsOivZ6Wf",
        "colab_type": "code",
        "outputId": "d8ad2725-2de8-4420-f34d-04924d4bc372",
        "colab": {
          "base_uri": "https://localhost:8080/",
          "height": 108
        }
      },
      "source": [
        "arr3=np.random.randint(low=1,high=100,size=20).reshape(5,4)\n",
        "arr3"
      ],
      "execution_count": 0,
      "outputs": [
        {
          "output_type": "execute_result",
          "data": {
            "text/plain": [
              "array([[78,  1, 77, 77],\n",
              "       [56, 43, 48, 66],\n",
              "       [86, 97, 85, 41],\n",
              "       [54, 36, 77,  1],\n",
              "       [43, 31, 36,  7]])"
            ]
          },
          "metadata": {
            "tags": []
          },
          "execution_count": 8
        }
      ]
    },
    {
      "cell_type": "code",
      "metadata": {
        "id": "HzeC03N6aQpx",
        "colab_type": "code",
        "outputId": "54e9b51d-f737-4d72-c79e-af69c80d4e0d",
        "colab": {
          "base_uri": "https://localhost:8080/",
          "height": 53
        }
      },
      "source": [
        "# Q4 Write a code which can fetch all items from arr3 which are either greater than 25 or a multiple of 3\n",
        "arr3[ (arr3%3==0) | (arr3>25)]\n",
        "\n"
      ],
      "execution_count": 0,
      "outputs": [
        {
          "output_type": "execute_result",
          "data": {
            "text/plain": [
              "array([77, 63, 71, 80, 92, 32, 78, 64, 43, 96, 70, 26, 75, 66, 70, 21, 33,\n",
              "       30])"
            ]
          },
          "metadata": {
            "tags": []
          },
          "execution_count": 7
        }
      ]
    },
    {
      "cell_type": "code",
      "metadata": {
        "id": "PxcxU2ACa9Ri",
        "colab_type": "code",
        "colab": {}
      },
      "source": [
        "# Q5 Write a code to find the 10th, 25th, 50th(median) percentile of arr3\n",
        "# Percentiles are a very important concept in Statistics. If you don't know about it refer the video below\n",
        "# https://www.youtube.com/watch?v=Snf6Wpn-L4c\n",
        "# Hint: to solve this function google np.percentile()"
      ],
      "execution_count": 0,
      "outputs": []
    },
    {
      "cell_type": "code",
      "metadata": {
        "id": "_8moTHWYcDCt",
        "colab_type": "code",
        "outputId": "f108bdbd-15fd-47da-8955-28da552251c3",
        "colab": {
          "base_uri": "https://localhost:8080/",
          "height": 126
        }
      },
      "source": [
        "\n",
        "print(\"\\n 10th percentile of arr3,axis=none:\",np.percentile(arr3,10))\n",
        "print(\"\\n50th Percentile of arr3, axis = None : \",  \n",
        "      np.percentile(arr3, 50))  \n",
        "print(\"\\n25th Percentile of arr3, axis = None : \",  \n",
        "      np.percentile(arr3, 25))  \n"
      ],
      "execution_count": 0,
      "outputs": [
        {
          "output_type": "stream",
          "text": [
            "\n",
            " 10th percentile of arr3,axis=none: 6.4\n",
            "\n",
            "50th Percentile of arr3, axis = None :  51.0\n",
            "\n",
            "25th Percentile of arr3, axis = None :  36.0\n"
          ],
          "name": "stdout"
        }
      ]
    }
  ]
}