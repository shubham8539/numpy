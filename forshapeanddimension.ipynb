{
  "nbformat": 4,
  "nbformat_minor": 0,
  "metadata": {
    "colab": {
      "name": "Shubham Jha - Shape-and-dimension.ipynb",
      "provenance": []
    },
    "kernelspec": {
      "name": "python3",
      "display_name": "Python 3"
    }
  },
  "cells": [
    {
      "cell_type": "markdown",
      "metadata": {
        "id": "KS3wCW3hFavq",
        "colab_type": "text"
      },
      "source": [
        "You have to write 2 functions after watching today's videos.\n",
        "\n",
        "1. The first function will accept a Numpy array and return it's shape.\n",
        "   Note:- You can't use the shape attribute\n",
        "   \n",
        "2. The second function will accept a Numpy array and return it's dimension.\n",
        "   Note:- You can't use the ndim attribute"
      ]
    },
    {
      "cell_type": "code",
      "metadata": {
        "id": "cjxTt2EdNZtR",
        "colab_type": "code",
        "colab": {}
      },
      "source": [
        "import numpy as np\n"
      ],
      "execution_count": 0,
      "outputs": []
    },
    {
      "cell_type": "code",
      "metadata": {
        "id": "FVX4V9FmF8rt",
        "colab_type": "code",
        "colab": {}
      },
      "source": [
        "# Write 1st function here\n",
        "#for shape\n",
        "def shp(array):\n",
        "  if not type(array)==np.ndarray:\n",
        "     return[]\n",
        "  return[len(array)]+shp(array[0])\n",
        "\n"
      ],
      "execution_count": 0,
      "outputs": []
    },
    {
      "cell_type": "code",
      "metadata": {
        "id": "vuFJWZlXNFcd",
        "colab_type": "code",
        "outputId": "9d4aa796-6872-4901-df64-2617d302a47d",
        "colab": {
          "base_uri": "https://localhost:8080/",
          "height": 35
        }
      },
      "source": [
        "arr1=np.array([[[1,2],[3,0],[9,7],[6,8]]])  #numpy array\n",
        "print(shp(arr1))"
      ],
      "execution_count": 0,
      "outputs": [
        {
          "output_type": "stream",
          "text": [
            "[1, 4, 2]\n"
          ],
          "name": "stdout"
        }
      ]
    },
    {
      "cell_type": "code",
      "metadata": {
        "id": "R0KWz8gqGAXW",
        "colab_type": "code",
        "colab": {}
      },
      "source": [
        "# Write 2nd function here\n",
        "#for dimension\n",
        "def res(array):\n",
        "  if not type(array)==np.ndarray:\n",
        "     return[]\n",
        "  return[len(array)]+shp(array[0])\n",
        "print(len(res(array)))   #fo"
      ],
      "execution_count": 0,
      "outputs": []
    },
    {
      "cell_type": "code",
      "metadata": {
        "id": "sLTQz89zOTVC",
        "colab_type": "code",
        "outputId": "b8a6e2bd-abc9-4354-a89c-58fc6cc572db",
        "colab": {
          "base_uri": "https://localhost:8080/",
          "height": 35
        }
      },
      "source": [
        "arr1=np.array([[[1,2],[3,0],[9,7],[6,8]]])\n",
        "print(len(res(arr1)))"
      ],
      "execution_count": 0,
      "outputs": [
        {
          "output_type": "stream",
          "text": [
            "3\n"
          ],
          "name": "stdout"
        }
      ]
    },
    {
      "cell_type": "code",
      "metadata": {
        "id": "5xmTBXejGDeG",
        "colab_type": "code",
        "colab": {}
      },
      "source": [
        ""
      ],
      "execution_count": 0,
      "outputs": []
    }
  ]
}